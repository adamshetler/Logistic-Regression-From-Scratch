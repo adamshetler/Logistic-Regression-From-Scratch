{
 "cells": [
  {
   "cell_type": "code",
   "execution_count": 1,
   "metadata": {
    "collapsed": true
   },
   "outputs": [],
   "source": [
    "import mglearn\n",
    "import matplotlib.pyplot as plt\n",
    "import pandas as pd \n",
    "import numpy as np\n",
    "from IPython.display import display \n",
    "from sklearn.linear_model import LogisticRegression\n",
    "from sklearn.svm import LinearSVC"
   ]
  },
  {
   "cell_type": "code",
   "execution_count": 2,
   "metadata": {},
   "outputs": [
    {
     "data": {
      "image/png": "[encoded data removed]",
      "text/plain": [
       "<matplotlib.figure.Figure at 0xc6f8e80>"
      ]
     },
     "metadata": {},
     "output_type": "display_data"
    }
   ],
   "source": [
    "#import dataset to use for classification \n",
    "X,y = mglearn.datasets.make_forge()\n",
    "#scatterplot of data \n",
    "mglearn.discrete_scatter(X[:,0],X[:,1],y)\n",
    "plt.xlabel(\"Feature 1\")\n",
    "plt.ylabel(\"Feature 2\")\n",
    "plt.legend()\n",
    "plt.show()"
   ]
  },
  {
   "cell_type": "code",
   "execution_count": 3,
   "metadata": {
    "collapsed": true
   },
   "outputs": [],
   "source": [
    "#m is the number of training examples\n",
    "m = (X[:,1]).size\n",
    "#create a column of ones and add it to the X-matrix \n",
    "col_ones = np.ones((m,1))\n",
    "X_new = np.append(col_ones,X,axis=1)\n",
    "#n is the number of features \n",
    "n = len(X_new[1,:])\n",
    "#convert labels y to a matrix- this makes matrix computations easier \n",
    "y_new = np.asmatrix(y).transpose()\n",
    "#create Theta matrix which will serve as our parameters we will learn, initialized with all zeros \n",
    "Theta = np.zeros((n,1))\n",
    "#Create Theat_Temp vector to store Theta updates \n",
    "Theta_Temp = np.zeros((n,1))\n",
    "#create empty matrix J_history- this will be used to keep track of the cost during gradient descent \n",
    "J_history = np.zeros((1,25))"
   ]
  },
  {
   "cell_type": "code",
   "execution_count": 4,
   "metadata": {
    "collapsed": true
   },
   "outputs": [],
   "source": [
    "#create sigmoid function\n",
    "def sigmoid(z):\n",
    "    return 1/(1+np.exp(-z))"
   ]
  },
  {
   "cell_type": "code",
   "execution_count": 5,
   "metadata": {
    "collapsed": true
   },
   "outputs": [],
   "source": [
    "#create a function that will compute the cost given a choice of parameters Theta \n",
    "def ComputeCost(X,y,theta):\n",
    "    J = 0\n",
    "    for i in range(0,m):\n",
    "        J = J+((-y[i]*np.log(sigmoid(np.dot(X[i,:],theta))))-(1-y[i])*(np.log(1-sigmoid(np.dot(X[i,:],theta)))))/m"
   ]
  },
  {
   "cell_type": "code",
   "execution_count": 6,
   "metadata": {
    "collapsed": true
   },
   "outputs": [],
   "source": [
    "#set our step size alpha \n",
    "alpha = 0.10\n",
    "#Gradient Descent step-The first for loop will be for the number of iterations, the second for loop computes the gradeint and \n",
    "#updates our parameters Theta.. This will also keep track of the Cost at each iteration\n",
    "for iter in range(0,25):\n",
    "    for i in range(0,n):\n",
    "        Theta_Temp[i] = Theta[i]-(alpha*(1./m)*np.dot(((sigmoid(np.dot(X_new,Theta))-y_new).transpose()),X_new[:,i]))\n",
    "    Theta = Theta_Temp\n",
    "    J_history[0,iter] = ComputeCost(X_new,y_new,Theta)"
   ]
  },
  {
   "cell_type": "code",
   "execution_count": 7,
   "metadata": {
    "collapsed": true
   },
   "outputs": [],
   "source": [
    "#Create array of zeros that will contain our predicted values \n",
    "predictions = np.zeros((y_new.size,1))"
   ]
  },
  {
   "cell_type": "code",
   "execution_count": 8,
   "metadata": {
    "collapsed": true
   },
   "outputs": [],
   "source": [
    "#Now that we have our optimal Theta this function makes predictions for each training example and classifies them\n",
    "def predict(X,y,theta):\n",
    "    for i in range(0,m):\n",
    "        if(sigmoid(np.dot(X[i,:],theta))>=0.5):\n",
    "            predictions[i] = 1\n",
    "        else:\n",
    "            predictions[i] = 0"
   ]
  },
  {
   "cell_type": "code",
   "execution_count": 9,
   "metadata": {
    "collapsed": true
   },
   "outputs": [],
   "source": [
    "#Call the predict function with our data \n",
    "predict(X_new,y_new,Theta)"
   ]
  },
  {
   "cell_type": "code",
   "execution_count": 10,
   "metadata": {},
   "outputs": [
    {
     "data": {
      "image/png": "[encoded data removed]",
      "text/plain": [
       "<matplotlib.figure.Figure at 0xcf4e940>"
      ]
     },
     "metadata": {},
     "output_type": "display_data"
    }
   ],
   "source": [
    "#This for loop goes over all our training data and plots each blue or red based on their predicted classes 0 and 1 respectively\n",
    "for i in range(0,m):\n",
    "    if(predictions[i]==1):\n",
    "        plt.scatter(X[i,0],X[i,1],color='blue')\n",
    "    else:\n",
    "        plt.scatter(X[i,0],X[i,1],color = 'red')\n",
    "plt.xlabel(\"Feature 1\")\n",
    "plt.ylabel(\"Feature 2\")\n",
    "plt.title(\"Logistic Regression\")\n",
    "plt.show()"
   ]
  },
  {
   "cell_type": "code",
   "execution_count": 11,
   "metadata": {},
   "outputs": [
    {
     "name": "stdout",
     "output_type": "stream",
     "text": [
      "Training Score: 92.30769%\n"
     ]
    }
   ],
   "source": [
    "#Here we compute our Training rate accuracy and see our classifier predicted 92.3% of our training data correctly \n",
    "from fractions import Fraction\n",
    "count=0\n",
    "for i in range(0,m):\n",
    "    if(predictions[i]==y_new[i]):\n",
    "        count+=1\n",
    "print(\"Training Score: {:.5f}%\".format(float(Fraction(count,m))*100))"
   ]
  },
  {
   "cell_type": "code",
   "execution_count": 12,
   "metadata": {},
   "outputs": [
    {
     "data": {
      "image/png": "[encoded data removed]",
      "text/plain": [
       "<matplotlib.figure.Figure at 0xcf77f28>"
      ]
     },
     "metadata": {},
     "output_type": "display_data"
    }
   ],
   "source": [
    "#Train models using logistic regression and linear SVM from sklearn \n",
    "fig, axes = plt.subplots(1, 2, figsize=(10,3))\n",
    "for model, ax in zip([LinearSVC(), LogisticRegression()], axes):\n",
    "    clf = model.fit(X,y)\n",
    "    mglearn.plots.plot_2d_separator(clf,X,fill=False,eps=0.5,ax=ax,alpha=.7)\n",
    "    mglearn.discrete_scatter(X[:,0],X[:,1],y,ax=ax)\n",
    "    #ax.set_title(\"{}\".format(clf._class_._name_))\n",
    "    ax.set_xlabel(\"Feature 0\")\n",
    "    ax.set_ylabel(\"Feature 1\")\n",
    "axes[0].legend()\n",
    "plt.show()"
   ]
  },
  {
   "cell_type": "code",
   "execution_count": 44,
   "metadata": {
    "collapsed": true
   },
   "outputs": [],
   "source": [
    "#trained model using logistic regression without regularization\n",
    "logreg=LogisticRegression().fit(X,y)"
   ]
  },
  {
   "cell_type": "code",
   "execution_count": 45,
   "metadata": {},
   "outputs": [
    {
     "name": "stdout",
     "output_type": "stream",
     "text": [
      "Training Score (sklearn): 92.30769%\n",
      "Training Score (gradient descent): 92.30769%\n"
     ]
    }
   ],
   "source": [
    "#We can see our training score is the same score we got training our classifier using gradient descent \n",
    "print(\"Training Score (sklearn): {:.5f}%\".format(logreg.score(X,y)*100))\n",
    "from fractions import Fraction\n",
    "count=0\n",
    "for i in range(0,m):\n",
    "    if(predictions[i]==y_new[i]):\n",
    "        count+=1\n",
    "print(\"Training Score (gradient descent): {:.5f}%\".format(float(Fraction(count,m))*100))"
   ]
  },
  {
   "cell_type": "code",
   "execution_count": null,
   "metadata": {
    "collapsed": true
   },
   "outputs": [],
   "source": []
  },
  {
   "cell_type": "code",
   "execution_count": null,
   "metadata": {
    "collapsed": true
   },
   "outputs": [],
   "source": []
  },
  {
   "cell_type": "code",
   "execution_count": null,
   "metadata": {
    "collapsed": true
   },
   "outputs": [],
   "source": []
  },
  {
   "cell_type": "code",
   "execution_count": null,
   "metadata": {
    "collapsed": true
   },
   "outputs": [],
   "source": []
  }
 ],
 "metadata": {
  "kernelspec": {
   "display_name": "Python 2",
   "language": "python",
   "name": "python2"
  },
  "language_info": {
   "codemirror_mode": {
    "name": "ipython",
    "version": 2
   },
   "file_extension": ".py",
   "mimetype": "text/x-python",
   "name": "python",
   "nbconvert_exporter": "python",
   "pygments_lexer": "ipython2",
   "version": "2.7.13"
  }
 },
 "nbformat": 4,
 "nbformat_minor": 2
}
